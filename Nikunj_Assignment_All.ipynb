{
 "cells": [
  {
   "cell_type": "markdown",
   "id": "ab2068d6",
   "metadata": {},
   "source": [
    "## 1) What are the types of Applications?"
   ]
  },
  {
   "cell_type": "markdown",
   "id": "98655278",
   "metadata": {},
   "source": [
    "Applications can be categorized into the following types:\n",
    "- Web Applications\n",
    "- Desktop Applications\n",
    "- Mobile Applications\n",
    "- Console Applications\n",
    "- Enterprise Applications\n",
    "- Game Applications\n",
    "\n"
   ]
  },
  {
   "cell_type": "markdown",
   "id": "5422a6c6",
   "metadata": {},
   "source": [
    "## 2) What is programming?"
   ]
  },
  {
   "cell_type": "markdown",
   "id": "4862b665",
   "metadata": {},
   "source": [
    "Programming is the process of designing and writing instructions (code) that a computer can execute to perform specific tasks or solve problems."
   ]
  },
  {
   "cell_type": "markdown",
   "id": "5c54d3c0",
   "metadata": {},
   "source": [
    "## 3) What is Python?"
   ]
  },
  {
   "cell_type": "markdown",
   "id": "84b82b3b",
   "metadata": {},
   "source": [
    "Python is a high-level, interpreted, object-oriented programming language. It is widely used for web development, data science, artificial intelligence, automation, and many other fields due to its simplicity and readability."
   ]
  },
  {
   "cell_type": "markdown",
   "id": "dc5dc764",
   "metadata": {},
   "source": [
    "## 4) Write a Python program to check if a number is positive, negative or zero."
   ]
  },
  {
   "cell_type": "code",
   "execution_count": 47,
   "id": "5dfb8262",
   "metadata": {},
   "outputs": [
    {
     "name": "stdout",
     "output_type": "stream",
     "text": [
      "Positive number\n"
     ]
    }
   ],
   "source": [
    "num = int(input('Enter a number: '))\n",
    "if num > 0:\n",
    "    print('Positive number')\n",
    "elif num < 0:\n",
    "    print('Negative number')\n",
    "else:\n",
    "    print('Zero')\n",
    "    "
   ]
  },
  {
   "cell_type": "markdown",
   "id": "d914a140",
   "metadata": {},
   "source": [
    "## 5) Write a Python program to get the Factorial number of given numbers."
   ]
  },
  {
   "cell_type": "code",
   "execution_count": null,
   "id": "84cd5912",
   "metadata": {},
   "outputs": [
    {
     "name": "stdout",
     "output_type": "stream",
     "text": [
      "Factorial: 40320\n"
     ]
    }
   ],
   "source": [
    "def factorial(n):\n",
    "    return 1 if n == 0 else n * factorial(n-1)\n",
    "num = int(input('Enter a number: '))\n",
    "print('Factorial:', factorial(num))"
   ]
  },
  {
   "cell_type": "markdown",
   "id": "052c5a81",
   "metadata": {},
   "source": [
    "## 6) Write a Python program to get the Fibonacci series of given range."
   ]
  },
  {
   "cell_type": "code",
   "execution_count": null,
   "id": "c11462d6",
   "metadata": {},
   "outputs": [],
   "source": [
    "def fibonacci(n):\n",
    "    a, b = 0, 1\n",
    "    for _ in range(n):\n",
    "        print(a, end=' ')\n",
    "        a, b = b, a+b\n",
    "\n",
    "\n",
    "n = int(input('Enter range: '))\n",
    "fibonacci(n)"
   ]
  },
  {
   "cell_type": "markdown",
   "id": "9597cfc3",
   "metadata": {},
   "source": [
    "## 7) How memory is managed in Python?"
   ]
  },
  {
   "cell_type": "markdown",
   "id": "e2bc30d0",
   "metadata": {},
   "source": [
    "Python memory management is handled by the Python Memory Manager. It involves:\n",
    "- Private heap space: All objects and data structures are stored here.\n",
    "- Automatic garbage collection: Unused memory is automatically freed.\n",
    "- Reference counting and cyclic garbage collector are used to manage memory.\n"
   ]
  },
  {
   "cell_type": "markdown",
   "id": "7be74c00",
   "metadata": {},
   "source": [
    "## 8) What is the purpose of continue statement in Python?"
   ]
  },
  {
   "cell_type": "markdown",
   "id": "05994279",
   "metadata": {},
   "source": [
    "The 'continue' statement in Python is used to skip the current iteration of a loop and move to the next iteration. It is useful when you want to skip some part of code under certain conditions without terminating the loop."
   ]
  },
  {
   "cell_type": "markdown",
   "id": "16732f84",
   "metadata": {},
   "source": [
    "## 9) Write python program that swap two numbers with temp variable and without temp variable."
   ]
  },
  {
   "cell_type": "code",
   "execution_count": null,
   "id": "48c425dd",
   "metadata": {},
   "outputs": [],
   "source": [
    "With temp variable:\n",
    "x, y = 5, 10\n",
    "temp = x\n",
    "x = y\n",
    "y = temp\n",
    "print(x, y)\n",
    "\n",
    "Without temp variable:\n",
    "x, y = 5, 10\n",
    "x, y = y, x\n",
    "print(x, y)\n"
   ]
  },
  {
   "cell_type": "markdown",
   "id": "d84a62d8",
   "metadata": {},
   "source": [
    "## 10) Write a Python program to find whether a given number is even or odd."
   ]
  },
  {
   "cell_type": "code",
   "execution_count": null,
   "id": "56311191",
   "metadata": {},
   "outputs": [],
   "source": [
    "num = int(input('Enter a number: '))\n",
    "if num % 2 == 0:\n",
    "    print('Even number')\n",
    "else:\n",
    "    print('Odd number')"
   ]
  },
  {
   "cell_type": "markdown",
   "id": "ce00dfa0",
   "metadata": {},
   "source": [
    "## 11) Write a Python program to test whether a passed letter is a vowel or not."
   ]
  },
  {
   "cell_type": "code",
   "execution_count": null,
   "id": "df72e6f2",
   "metadata": {},
   "outputs": [],
   "source": [
    "ch = input('Enter a letter: ').lower()\n",
    "if ch in 'aeiou':\n",
    "    print('Vowel')\n",
    "else:\n",
    "    print('Not a vowel')"
   ]
  },
  {
   "cell_type": "markdown",
   "id": "173c949e",
   "metadata": {},
   "source": [
    "## 12) Write a Python program to sum of three given integers. However, if two values are e ual sum will be zero."
   ]
  },
  {
   "cell_type": "code",
   "execution_count": 2,
   "id": "cfcee37c",
   "metadata": {},
   "outputs": [],
   "source": [
    "def custom_sum(x, y, z):\n",
    "    if x == y or y == z or x == z:\n",
    "        print(custom_sum(2, 2, 4))"
   ]
  },
  {
   "cell_type": "markdown",
   "id": "87f373b0",
   "metadata": {},
   "source": [
    "## 13) Write a Python program that will return true if the two given integer values are e ual or their sum or difference is 5."
   ]
  },
  {
   "cell_type": "code",
   "execution_count": 3,
   "id": "11ffdfee",
   "metadata": {},
   "outputs": [
    {
     "name": "stdout",
     "output_type": "stream",
     "text": [
      "True\n"
     ]
    }
   ],
   "source": [
    "def check_values(x, y):\n",
    "    return x == y or abs(x-y) == 5 or (x+y) == 5\n",
    "print(check_values(2, 3))"
   ]
  },
  {
   "cell_type": "markdown",
   "id": "10f9f0ab",
   "metadata": {},
   "source": [
    "## 14) Write a Python program to sum of the first n positive integers."
   ]
  },
  {
   "cell_type": "code",
   "execution_count": 4,
   "id": "e4027f1a",
   "metadata": {},
   "outputs": [
    {
     "name": "stdout",
     "output_type": "stream",
     "text": [
      "Sum: 3\n"
     ]
    }
   ],
   "source": [
    "n = int(input('Enter n: '))\n",
    "sum_n = n * (n + 1) // 2\n",
    "print('Sum:', sum_n)"
   ]
  },
  {
   "cell_type": "markdown",
   "id": "554b67a2",
   "metadata": {},
   "source": [
    "## 15) Write a Python program to calculate the length of a string."
   ]
  },
  {
   "cell_type": "code",
   "execution_count": 5,
   "id": "a7fe507f",
   "metadata": {},
   "outputs": [
    {
     "name": "stdout",
     "output_type": "stream",
     "text": [
      "Length of string: 1\n"
     ]
    }
   ],
   "source": [
    "s = input('Enter a string: ')\n",
    "print('Length of string:', len(s))"
   ]
  },
  {
   "cell_type": "markdown",
   "id": "4736662b",
   "metadata": {},
   "source": [
    "## 16) Write a Python program to count the number of characters (character fre uency) in a string."
   ]
  },
  {
   "cell_type": "code",
   "execution_count": 6,
   "id": "a71ba645",
   "metadata": {},
   "outputs": [
    {
     "name": "stdout",
     "output_type": "stream",
     "text": [
      "Counter({'n': 1, 'i': 1, 'k': 1})\n"
     ]
    }
   ],
   "source": [
    "from collections import Counter\n",
    "s = input('Enter a string: ')\n",
    "print(Counter(s))"
   ]
  },
  {
   "cell_type": "markdown",
   "id": "8686a7f6",
   "metadata": {},
   "source": [
    "## 17) What are negative indexes and why are they used?"
   ]
  },
  {
   "cell_type": "markdown",
   "id": "d7d178c4",
   "metadata": {},
   "source": [
    "Negative indexes in Python allow you to access elements from the end of a se uence. For example, list[-1] refers to the last element, list[-2] refers to the second last element. They are useful when you want to access elements from the end without knowing the exact length."
   ]
  },
  {
   "cell_type": "markdown",
   "id": "1f3636b0",
   "metadata": {},
   "source": [
    "## 18) Write a Python program to count occurrences of a substring in a string."
   ]
  },
  {
   "cell_type": "code",
   "execution_count": null,
   "id": "e6abdf07",
   "metadata": {},
   "outputs": [],
   "source": [
    "s = 'hello world, hello python'\n",
    "print(s.count('hello'))"
   ]
  },
  {
   "cell_type": "markdown",
   "id": "1c431665",
   "metadata": {},
   "source": [
    "## 19) Write a Python program to count the occurrences of each word in a string."
   ]
  },
  {
   "cell_type": "code",
   "execution_count": null,
   "id": "cd27d8c2",
   "metadata": {},
   "outputs": [],
   "source": [
    "from collections import Counter\n",
    "s = 'this is a test this is python'\n",
    "words = s.split()\n",
    "print(Counter(words))"
   ]
  },
  {
   "cell_type": "markdown",
   "id": "521b1018",
   "metadata": {},
   "source": [
    "## 20) Write a Python program to get a single string from two given strings, separated by a space and swap the first two characters of each string."
   ]
  },
  {
   "cell_type": "code",
   "execution_count": null,
   "id": "2654ed6d",
   "metadata": {},
   "outputs": [],
   "source": [
    "def swap_strings(a, b):\n",
    "print(swap_strings('abc', 'xyz'))"
   ]
  },
  {
   "cell_type": "markdown",
   "id": "7e2446bf",
   "metadata": {},
   "source": [
    "## 21) Write a Python program to add 'in' at the end of a given string."
   ]
  },
  {
   "cell_type": "code",
   "execution_count": 50,
   "id": "ed99bb2c",
   "metadata": {},
   "outputs": [
    {
     "name": "stdout",
     "output_type": "stream",
     "text": [
      "playing\n"
     ]
    }
   ],
   "source": [
    "def add_string(s):\n",
    "    if len(s) < 3:\n",
    "        return s\n",
    "    if s.endswith('ing'):\n",
    "        return s + 'ly'\n",
    "    return s + 'ing'\n",
    "\n",
    "\n",
    "print(add_string('play'))"
   ]
  },
  {
   "cell_type": "markdown",
   "id": "79a1490a",
   "metadata": {},
   "source": [
    "## 22) Write a Python function to reverse a string if its length is a multiple of 4."
   ]
  },
  {
   "cell_type": "code",
   "execution_count": null,
   "id": "afa5c48d",
   "metadata": {},
   "outputs": [],
   "source": [
    "def reverse_if_multiple_of_4(s):\n",
    "    return s[::-1] if len(s) % 4 == 0 else s\n",
    "print(reverse_if_multiple_of_4('abcd'))"
   ]
  },
  {
   "cell_type": "markdown",
   "id": "7dfc3ea4",
   "metadata": {},
   "source": [
    "## 23) Write a Python program to get a string made of the first 2 and the last 2 chars from a given string."
   ]
  },
  {
   "cell_type": "code",
   "execution_count": 52,
   "id": "f59047e1",
   "metadata": {},
   "outputs": [
    {
     "name": "stdout",
     "output_type": "stream",
     "text": [
      "pyon\n"
     ]
    }
   ],
   "source": [
    "def first_last_chars(s):\n",
    "    return '' if len(s) < 2 else s[:2] + s[-2:]\n",
    "\n",
    "\n",
    "print(first_last_chars('python'))"
   ]
  },
  {
   "cell_type": "markdown",
   "id": "50cc090d",
   "metadata": {},
   "source": [
    "## 24) Write a Python function to insert a string in the middle of a string."
   ]
  },
  {
   "cell_type": "code",
   "execution_count": 54,
   "id": "b1cc6d8f",
   "metadata": {},
   "outputs": [
    {
     "name": "stdout",
     "output_type": "stream",
     "text": [
      "pytJAVAhon\n"
     ]
    }
   ],
   "source": [
    "def insert_middle(s, word):\n",
    "    mid = len(s) // 2\n",
    "    return s[:mid] + word + s[mid:]\n",
    "\n",
    "\n",
    "print(insert_middle('python', 'JAVA'))"
   ]
  },
  {
   "cell_type": "markdown",
   "id": "6e519464",
   "metadata": {},
   "source": [
    "## 25) What is List? How will you reverse a list?"
   ]
  },
  {
   "cell_type": "code",
   "execution_count": 56,
   "id": "7641bdd4",
   "metadata": {},
   "outputs": [
    {
     "data": {
      "text/plain": [
       "[1, 2, 3, 4]"
      ]
     },
     "execution_count": 56,
     "metadata": {},
     "output_type": "execute_result"
    }
   ],
   "source": [
    "# A list in Python is a collection of ordered, mutable items. Lists can store elements of different data types.\n",
    "# To reverse a list:\n",
    "list1 = [1,2,3,4]\n",
    "list1.reverse()\n",
    "# or\n",
    "list1[::-1]\n"
   ]
  },
  {
   "cell_type": "markdown",
   "id": "f047aaf1",
   "metadata": {},
   "source": [
    "## 26) How will you remove last object from a list?"
   ]
  },
  {
   "cell_type": "code",
   "execution_count": null,
   "id": "386813db",
   "metadata": {},
   "outputs": [],
   "source": [
    "list1 = [1,2,3]\n",
    "list1.pop()\n"
   ]
  },
  {
   "cell_type": "markdown",
   "id": "d8cda042",
   "metadata": {},
   "source": [
    "## 27) Suppose list1 is [2, 33, 222, 14, and 25], what is list1[-1]?"
   ]
  },
  {
   "cell_type": "markdown",
   "id": "5c01fb1b",
   "metadata": {},
   "source": [
    "list1[-1] gives the last element of the list. So, output = 25."
   ]
  },
  {
   "cell_type": "markdown",
   "id": "1b243fcd",
   "metadata": {},
   "source": [
    "## 28) Differentiate between append() and extend() methods?"
   ]
  },
  {
   "cell_type": "markdown",
   "id": "caf53c1e",
   "metadata": {},
   "source": [
    "- append(): Adds its argument as a single element to the end of the list.\n",
    "- extend(): Iterates over its argument adding each element to the list."
   ]
  },
  {
   "cell_type": "markdown",
   "id": "4fe17556",
   "metadata": {},
   "source": [
    "## 29) Write a Python function to get the largest number, smallest number and sum of all from a list."
   ]
  },
  {
   "cell_type": "code",
   "execution_count": null,
   "id": "cc2db069",
   "metadata": {},
   "outputs": [],
   "source": [
    "def list_operations(lst):\n",
    "    return max(lst), min(lst), sum(lst)\n",
    "\n",
    "\n",
    "print(list_operations([1, 2, 3, 4, 5]))"
   ]
  },
  {
   "cell_type": "markdown",
   "id": "20b38ef0",
   "metadata": {},
   "source": [
    "## 30) How will you compare two lists?"
   ]
  },
  {
   "cell_type": "markdown",
   "id": "860528fd",
   "metadata": {},
   "source": [
    "Two lists can be compared using '==' operator to check if elements are e ual and in the same order:\n",
    "list1 == list2\n"
   ]
  },
  {
   "cell_type": "markdown",
   "id": "950f7daf",
   "metadata": {},
   "source": [
    "## 31) Write a Python program to count strings where string length >=2 and first and last character are same."
   ]
  },
  {
   "cell_type": "code",
   "execution_count": null,
   "id": "f7de74c7",
   "metadata": {},
   "outputs": [],
   "source": [
    "def match_words(words):\n",
    "    count = 0\n",
    "    for w in words:\n",
    "        if len(w) >= 2 and w[0] == w[-1]:\n",
    "            count += 1\n",
    "    return count\n",
    "\n",
    "\n",
    "print(match_words(['abc', 'xyz', 'aba', '1221']))"
   ]
  },
  {
   "cell_type": "markdown",
   "id": "18d8d0d2",
   "metadata": {},
   "source": [
    "## 32) Write a Python program to remove duplicates from a list."
   ]
  },
  {
   "cell_type": "code",
   "execution_count": null,
   "id": "259e62a3",
   "metadata": {},
   "outputs": [],
   "source": [
    "list1 = [1, 2, 2, 3, 4, 4]\n",
    "list1 = list(set(list1))\n",
    "print(list1)"
   ]
  },
  {
   "cell_type": "markdown",
   "id": "d284631b",
   "metadata": {},
   "source": [
    "## 33) Write a Python program to check a list is empty or not."
   ]
  },
  {
   "cell_type": "code",
   "execution_count": 82,
   "id": "8282e05c",
   "metadata": {},
   "outputs": [
    {
     "name": "stdout",
     "output_type": "stream",
     "text": [
      "Empty\n"
     ]
    }
   ],
   "source": [
    "list1 = []\n",
    "if not list1:\n",
    "    print('Empty')\n",
    "else:\n",
    "    print('Not Empty')"
   ]
  },
  {
   "cell_type": "markdown",
   "id": "e9f5f9be",
   "metadata": {},
   "source": [
    " ## 34) Write a Python function that takes two lists and returns true if they have at least one common member.\n",
    "    \n"
   ]
  },
  {
   "cell_type": "code",
   "execution_count": null,
   "id": "fc007065",
   "metadata": {},
   "outputs": [],
   "source": [
    "def common_member(a, b):\n",
    "    return any(i in a for i in b)\n",
    "print(common_member([1,2,3],[4,5,3]))\n"
   ]
  },
  {
   "cell_type": "markdown",
   "id": "96d648a1",
   "metadata": {},
   "source": [
    "## 35) Write a Python program to generate list of squares of numbers between 1 and 30.\n"
   ]
  },
  {
   "cell_type": "code",
   "execution_count": null,
   "id": "0ffc6db6",
   "metadata": {},
   "outputs": [],
   "source": [
    "\n",
    "squares = [x**2 for x in range(1, 31)]\n",
    "print(squares[:5])\n",
    "print(squares[-5:])"
   ]
  },
  {
   "cell_type": "markdown",
   "id": "0ab171af",
   "metadata": {},
   "source": [
    "## 36) Write a Python function that takes a list and returns a new list with unique elements."
   ]
  },
  {
   "cell_type": "code",
   "execution_count": null,
   "id": "0aaec7b8",
   "metadata": {},
   "outputs": [],
   "source": [
    "def unique_list(lst):\n",
    "    return list(set(lst))\n",
    "\n",
    "\n",
    "print(unique_list([1, 2, 2, 3, 4]))"
   ]
  },
  {
   "cell_type": "markdown",
   "id": "2f844146",
   "metadata": {},
   "source": [
    "## 37) Write a Python program to convert a list of characters into a string."
   ]
  },
  {
   "cell_type": "code",
   "execution_count": null,
   "id": "b34630f8",
   "metadata": {},
   "outputs": [],
   "source": [
    "\n",
    "import random\n",
    "s = ['h', 'e', 'l', 'l', 'o']\n",
    "print(''.join(s))\n"
   ]
  },
  {
   "cell_type": "markdown",
   "id": "0a58e5ee",
   "metadata": {},
   "source": [
    "## 38) Write a Python program to select an item randomly from a list."
   ]
  },
  {
   "cell_type": "code",
   "execution_count": 61,
   "id": "f485c5b3",
   "metadata": {},
   "outputs": [
    {
     "name": "stdout",
     "output_type": "stream",
     "text": [
      "3\n"
     ]
    }
   ],
   "source": [
    "import random\n",
    "items = [1, 2, 3, 4, 5]\n",
    "print(random.choice(items))"
   ]
  },
  {
   "cell_type": "markdown",
   "id": "eb00bc95",
   "metadata": {},
   "source": [
    "## 39) Write a Python program to find the second smallest number in a list."
   ]
  },
  {
   "cell_type": "code",
   "execution_count": null,
   "id": "35e8cb73",
   "metadata": {},
   "outputs": [],
   "source": [
    "lst = [1, 2, 3, 4]\n",
    "lst.sort()\n",
    "print(lst[1])"
   ]
  },
  {
   "cell_type": "markdown",
   "id": "c4913f90",
   "metadata": {},
   "source": [
    "## 40) Write a Python program to get uni ue values from a list."
   ]
  },
  {
   "cell_type": "code",
   "execution_count": null,
   "id": "504b27a1",
   "metadata": {},
   "outputs": [],
   "source": [
    "lst = [1, 2, 2, 3, 4, 4]\n",
    "print(list(set(lst)))"
   ]
  },
  {
   "cell_type": "markdown",
   "id": "181fadec",
   "metadata": {},
   "source": [
    "## 41) Write a Python program to check whether a list contains a sublist."
   ]
  },
  {
   "cell_type": "code",
   "execution_count": null,
   "id": "e1ddd82f",
   "metadata": {},
   "outputs": [],
   "source": [
    "def is_sublist(lst, sub):\n",
    "    return any(lst[i:i+len(sub)] == sub for i in range(len(lst)-len(sub)+1))\n",
    "\n",
    "\n",
    "print(is_sublist([1, 2, 3, 4], [2, 3]))"
   ]
  },
  {
   "cell_type": "markdown",
   "metadata": {},
   "source": [
    "## 42) Write a Python program to split a list into different variables."
   ]
  },
  {
   "cell_type": "code",
   "execution_count": null,
   "id": "34df06aa",
   "metadata": {},
   "outputs": [],
   "source": [
    "lst = [1, 2, 3]\n",
    "a, b, c = lst\n",
    "print(a, b, c)"
   ]
  },
  {
   "cell_type": "markdown",
   "id": "46477c0a",
   "metadata": {},
   "source": [
    "## 43) What is tuple? Difference between list and tuple."
   ]
  },
  {
   "cell_type": "markdown",
   "id": "ba9ebd44",
   "metadata": {},
   "source": [
    "Tuple: An ordered, immutable collection of items.\n",
    "Difference:\n",
    "- Lists are mutable, tuples are immutable.\n",
    "- Lists use [], tuples use ().\n"
   ]
  },
  {
   "cell_type": "markdown",
   "id": "89baf11a",
   "metadata": {},
   "source": [
    "## 44) Write a Python program to create a tuple with different data types."
   ]
  },
  {
   "cell_type": "code",
   "execution_count": null,
   "id": "9a7d7e0e",
   "metadata": {},
   "outputs": [],
   "source": [
    "t = (1, 'hello', 3.14, True)\n",
    "print(t)"
   ]
  },
  {
   "cell_type": "markdown",
   "id": "c993b79e",
   "metadata": {},
   "source": [
    "## 45) Write a Python program to unzip a list of tuples into individual lists."
   ]
  },
  {
   "cell_type": "code",
   "execution_count": null,
   "id": "7f12e6d4",
   "metadata": {},
   "outputs": [],
   "source": [
    "lst = [(1, 2), (3, 4), (5, 6)]\n",
    "a, b = zip(*lst)\n",
    "print(list(a), list(b))"
   ]
  },
  {
   "cell_type": "markdown",
   "id": "d708c8e6",
   "metadata": {},
   "source": [
    "## 47) How will you create a dictionary using tuples in python?"
   ]
  },
  {
   "cell_type": "code",
   "execution_count": 10,
   "id": "f207c7cd",
   "metadata": {},
   "outputs": [
    {
     "name": "stdout",
     "output_type": "stream",
     "text": [
      "{'name': 'Nikunj', 'age': 25, 'course': 'Data Analysis'}\n"
     ]
    }
   ],
   "source": [
    "tuples = (('name', 'Nikunj'), ('age', 25), ('course', 'Data Analysis'))\n",
    "dictionary = dict(tuples)\n",
    "print(dictionary)\n",
    "# Output: {'name': 'Nikunj', 'age': 25, 'course': 'Data Analysis'}"
   ]
  },
  {
   "cell_type": "markdown",
   "id": "a831e95f",
   "metadata": {},
   "source": [
    "## 48) Write a Python script to sort (ascending and descending) a dictionary by value."
   ]
  },
  {
   "cell_type": "code",
   "execution_count": 11,
   "id": "0b5502ee",
   "metadata": {},
   "outputs": [
    {
     "name": "stdout",
     "output_type": "stream",
     "text": [
      "Ascending: {'b': 1, 'c': 2, 'a': 3}\n",
      "Descending: {'a': 3, 'c': 2, 'b': 1}\n"
     ]
    }
   ],
   "source": [
    "my_dict = {'a': 3, 'b': 1, 'c': 2}\n",
    "asc = dict(sorted(my_dict.items(), key=lambda item: item[1]))\n",
    "desc = dict(sorted(my_dict.items(), key=lambda item: item[1], reverse=True))\n",
    "print(\"Ascending:\", asc)\n",
    "print(\"Descending:\", desc)\n",
    "# Output: Ascending: {'b': 1, 'c': 2, 'a': 3}\n",
    "#         Descending: {'a': 3, 'c': 2, 'b': 1}"
   ]
  },
  {
   "cell_type": "markdown",
   "id": "3e07d46c",
   "metadata": {},
   "source": [
    "## 49) Write a Python script to concatenate following dictionaries to create a new one."
   ]
  },
  {
   "cell_type": "code",
   "execution_count": 12,
   "id": "60a5e3e5",
   "metadata": {},
   "outputs": [
    {
     "name": "stdout",
     "output_type": "stream",
     "text": [
      "{1: 10, 2: 20, 3: 30, 4: 40, 5: 50, 6: 60}\n"
     ]
    }
   ],
   "source": [
    "dict1 = {1: 10, 2: 20}\n",
    "dict2 = {3: 30, 4: 40}\n",
    "dict3 = {5: 50, 6: 60}\n",
    "new_dict = {**dict1, **dict2, **dict3}\n",
    "print(new_dict)\n",
    "# Output: {1: 10, 2: 20, 3: 30, 4: 40, 5: 50, 6: 60}"
   ]
  },
  {
   "cell_type": "markdown",
   "id": "e2ec8eea",
   "metadata": {},
   "source": [
    "## 50) Write a Python script to check if a given key already exists in a dictionary."
   ]
  },
  {
   "cell_type": "code",
   "execution_count": null,
   "id": "82e658d2",
   "metadata": {},
   "outputs": [],
   "source": [
    "\n",
    "my_dict = {'a': 1, 'b': 2, 'c': 3}\n",
    "key = 'b'\n",
    "if key in my_dict:\n",
    "    print(f\"Key '{key}' exists in dictionary\")\n",
    "else:\n",
    "    print(f\"Key '{key}' does not exist\")"
   ]
  },
  {
   "cell_type": "markdown",
   "id": "726bafbd",
   "metadata": {},
   "source": [
    "## 51) How Do You Traverse Through a Dictionary Object in Python?"
   ]
  },
  {
   "cell_type": "code",
   "execution_count": null,
   "id": "6f075927",
   "metadata": {},
   "outputs": [],
   "source": [
    "my_dict = {'a': 1, 'b': 2, 'c': 3}\n",
    "for key, value in my_dict.items():\n",
    "    print(key, \":\", value)"
   ]
  },
  {
   "cell_type": "markdown",
   "id": "9755f89c",
   "metadata": {},
   "source": [
    "## 52) How Do You Check the Presence of a Key in A Dictionary?"
   ]
  },
  {
   "cell_type": "code",
   "execution_count": null,
   "id": "04ea94a0",
   "metadata": {},
   "outputs": [],
   "source": [
    "my_dict = {'a': 1, 'b': 2, 'c': 3}\n",
    "print('a' in my_dict)   # True\n",
    "print('z' in my_dict)   # False"
   ]
  },
  {
   "cell_type": "markdown",
   "id": "eb6fedc5",
   "metadata": {},
   "source": [
    "## 53) Write a Python script to print a dictionary where the keys are numbers between 1 and 15."
   ]
  },
  {
   "cell_type": "code",
   "execution_count": null,
   "id": "b7c55187",
   "metadata": {},
   "outputs": [],
   "source": [
    "my_dict = {x: x**2 for x in range(1, 16)}\n",
    "print(my_dict)"
   ]
  },
  {
   "cell_type": "markdown",
   "id": "3a94e809",
   "metadata": {},
   "source": [
    "## 54) Write a Python program to check multiple keys exists in a dictionary."
   ]
  },
  {
   "cell_type": "code",
   "execution_count": null,
   "id": "9de76552",
   "metadata": {},
   "outputs": [],
   "source": [
    "\n",
    "my_dict = {'a': 1, 'b': 2, 'c': 3, 'd': 4}\n",
    "keys = ['a', 'b']\n",
    "if all(key in my_dict for key in keys):\n",
    "    print(\"All keys exist\")\n",
    "else:\n",
    "    print(\"Some keys are missing\")"
   ]
  },
  {
   "cell_type": "markdown",
   "id": "a8a6e738",
   "metadata": {},
   "source": [
    "##  55) Write a Python script to merge two Python dictionaries."
   ]
  },
  {
   "cell_type": "code",
   "execution_count": null,
   "id": "0fda9660",
   "metadata": {},
   "outputs": [],
   "source": [
    "\n",
    "dict1 = {'a': 1, 'b': 2}\n",
    "dict2 = {'c': 3, 'd': 4}\n",
    "merged = {**dict1, **dict2}\n",
    "print(merged)\n",
    "# Output: {'a': 1, 'b': 2, 'c': 3, 'd': 4}"
   ]
  },
  {
   "cell_type": "markdown",
   "id": "14160629",
   "metadata": {},
   "source": [
    "##  56) Write a Python program to map two lists into a dictionary."
   ]
  },
  {
   "cell_type": "code",
   "execution_count": null,
   "id": "e0bbdda5",
   "metadata": {},
   "outputs": [],
   "source": [
    "\n",
    "from collections import Counter\n",
    "list1 = ['a', 'b', 'd', 'a', 'b', 'c']\n",
    "list2 = [400, 400, 400, 400, 400, 300]\n",
    "result = Counter(dict(zip(list1, list2)))\n",
    "print(result)\n",
    "# Output: Counter({'a': 400, 'b': 400, 'd': 400, 'c': 300})\n",
    "\n"
   ]
  },
  {
   "cell_type": "markdown",
   "id": "30c32f38",
   "metadata": {},
   "source": [
    "##  57) Write a Python program to find the highest 3 values in a dictionary."
   ]
  },
  {
   "cell_type": "code",
   "execution_count": null,
   "id": "8b9f68f6",
   "metadata": {},
   "outputs": [],
   "source": [
    "\n",
    "my_dict = {'a': 10, 'b': 50, 'c': 30, 'd': 70, 'e': 40}\n",
    "highest = sorted(my_dict.values(), reverse=True)[:3]\n",
    "print(\"Highest 3 values:\", highest)\n",
    "# Output: [70, 50, 40]\n",
    "\n"
   ]
  },
  {
   "cell_type": "markdown",
   "id": "9ef7e8ea",
   "metadata": {},
   "source": [
    "##  58) Write a Python program to combine values in python list of dictionaries."
   ]
  },
  {
   "cell_type": "code",
   "execution_count": null,
   "id": "0c1e2fae",
   "metadata": {},
   "outputs": [],
   "source": [
    "\n",
    "from collections import Counter\n",
    "data = [\n",
    "    {'item': 'item1', 'amount': 400},\n",
    "    {'item': 'item2', 'amount': 300},\n",
    "    {'item': 'item1', 'amount': 750}\n",
    "]\n",
    "result = Counter()\n",
    "for d in data:\n",
    "    result[d['item']] += d['amount']\n",
    "print(result)\n",
    "# Output: Counter({'item1': 1150, 'item2': 300})"
   ]
  },
  {
   "cell_type": "markdown",
   "id": "846f5860",
   "metadata": {},
   "source": [
    "##  59) Write a Python program to create a dictionary from a string (count letters)."
   ]
  },
  {
   "cell_type": "code",
   "execution_count": null,
   "id": "de6a204a",
   "metadata": {},
   "outputs": [],
   "source": [
    "\n",
    "string = \"w3resource\"\n",
    "letter_count = {}\n",
    "for ch in string:\n",
    "    letter_count[ch] = letter_count.get(ch, 0) + 1\n",
    "print(letter_count)\n",
    "# Output: {'w': 1, '3': 1, 'r': 2, 'e': 2, 's': 1, 'o': 1, 'u': 1, 'c': 1}\n",
    "\n"
   ]
  },
  {
   "cell_type": "markdown",
   "id": "3e8f63fc",
   "metadata": {},
   "source": [
    "## 61) Write a Python function to calculate the factorial of a number."
   ]
  },
  {
   "cell_type": "code",
   "execution_count": null,
   "id": "06db7e5d",
   "metadata": {},
   "outputs": [
    {
     "name": "stdout",
     "output_type": "stream",
     "text": [
      "120\n"
     ]
    }
   ],
   "source": [
    "\n",
    "def factorial(n):\n",
    "    if n == 0 or n == 1:\n",
    "        return 1\n",
    "    else :\n",
    "            return n * factorial(n-1)\n",
    "print(factorial(5))   \n",
    "# 120\n",
    "\n"
   ]
  },
  {
   "cell_type": "markdown",
   "id": "e50b2e6a",
   "metadata": {},
   "source": [
    "##  62) Write a Python function to check whether a number is in a given range."
   ]
  },
  {
   "cell_type": "code",
   "execution_count": 17,
   "id": "3fa95da6",
   "metadata": {},
   "outputs": [
    {
     "name": "stdout",
     "output_type": "stream",
     "text": [
      "True\n",
      "False\n"
     ]
    }
   ],
   "source": [
    "\n",
    "def check_range(num, start, end):\n",
    "    return start <= num <= end\n",
    "\n",
    "\n",
    "print(check_range(5, 1, 10))   # True\n",
    "print(check_range(15, 1, 10))  # False"
   ]
  },
  {
   "cell_type": "markdown",
   "id": "1b8bde34",
   "metadata": {},
   "source": [
    "##  63) Write a Python function to check whether a number is perfect or not."
   ]
  },
  {
   "cell_type": "code",
   "execution_count": null,
   "id": "12ca4b16",
   "metadata": {},
   "outputs": [],
   "source": [
    "\n",
    "def is_perfect(n):\n",
    "    divisors = [i for i in range(1, n) if n % i == 0]\n",
    "    return sum(divisors) == n\n",
    "\n",
    "\n",
    "print(is_perfect(28))  # True\n",
    "print(is_perfect(12))  # False"
   ]
  },
  {
   "cell_type": "markdown",
   "id": "fb5bb7b0",
   "metadata": {},
   "source": [
    "## 64) Write a Python function that checks whether a passed string is palindrome or not."
   ]
  },
  {
   "cell_type": "code",
   "execution_count": null,
   "id": "bf07bb8d",
   "metadata": {},
   "outputs": [],
   "source": [
    "\n",
    "def is_palindrome(s):\n",
    "    return s == s[::-1]\n",
    "\n",
    "\n",
    "print(is_palindrome(\"madam\"))  # True\n",
    "print(is_palindrome(\"hello\"))  # False"
   ]
  },
  {
   "cell_type": "markdown",
   "id": "79de5b17",
   "metadata": {},
   "source": [
    "##  65) How Many Basic Types of Functions Are Available in Python?"
   ]
  },
  {
   "cell_type": "markdown",
   "id": "01404b42",
   "metadata": {},
   "source": [
    "\n",
    "1. Built-in Functions (e.g., len(), print(), max())\n",
    "2. User-defined Functions (created using def)\n",
    "3. Lambda (Anonymous) Functions (created using lambda)\n",
    "\n",
    "\n"
   ]
  },
  {
   "cell_type": "markdown",
   "id": "d41f46a6",
   "metadata": {},
   "source": [
    "##  66) How can you pick a random item from a list or tuple?"
   ]
  },
  {
   "cell_type": "code",
   "execution_count": 20,
   "id": "790439c3",
   "metadata": {},
   "outputs": [
    {
     "name": "stdout",
     "output_type": "stream",
     "text": [
      "50\n"
     ]
    }
   ],
   "source": [
    "\n",
    "import random\n",
    "items = [10, 20, 30, 40, 50]\n",
    "print(random.choice(items))"
   ]
  },
  {
   "cell_type": "markdown",
   "id": "d1c4a6d7",
   "metadata": {},
   "source": [
    "##  67) How can you pick a random item from a range?"
   ]
  },
  {
   "cell_type": "code",
   "execution_count": 24,
   "id": "50495dfb",
   "metadata": {},
   "outputs": [
    {
     "name": "stdout",
     "output_type": "stream",
     "text": [
      "7\n"
     ]
    }
   ],
   "source": [
    "\n",
    "import random\n",
    "print(random.choice(range(1, 10)))"
   ]
  },
  {
   "cell_type": "markdown",
   "id": "16afadd1",
   "metadata": {},
   "source": [
    "##  68) How can you get a random number in python?"
   ]
  },
  {
   "cell_type": "code",
   "execution_count": 27,
   "id": "96185bdf",
   "metadata": {},
   "outputs": [
    {
     "name": "stdout",
     "output_type": "stream",
     "text": [
      "73\n",
      "0.15816046757490887\n"
     ]
    }
   ],
   "source": [
    "\n",
    "import random\n",
    "print(random.randint(1, 100))  # Random integer between 1 and 100\n",
    "print(random.random())         # Random float between 0 and 1"
   ]
  },
  {
   "cell_type": "markdown",
   "id": "0881c534",
   "metadata": {},
   "source": [
    "##  69) How will you set the starting value in generating random numbers?"
   ]
  },
  {
   "cell_type": "code",
   "execution_count": null,
   "id": "0476ca38",
   "metadata": {},
   "outputs": [],
   "source": [
    "\n",
    "import random\n",
    "random.seed(10)  # Set seed value\n",
    "print(random.random())  # Will give same result each time when seed is fixed"
   ]
  },
  {
   "cell_type": "markdown",
   "id": "6f1eb0e9",
   "metadata": {},
   "source": [
    "##  70) How will you randomize the items of a list in place?"
   ]
  },
  {
   "cell_type": "code",
   "execution_count": null,
   "id": "6904a789",
   "metadata": {},
   "outputs": [],
   "source": [
    "\n",
    "import random\n",
    "items = [1, 2, 3, 4, 5]\n",
    "random.shuffle(items)\n",
    "print(items)"
   ]
  },
  {
   "cell_type": "markdown",
   "id": "d158d3c9",
   "metadata": {},
   "source": [
    "##  71) What is File function in python? What are keywords to create and write file."
   ]
  },
  {
   "cell_type": "markdown",
   "id": "925b3846",
   "metadata": {},
   "source": [
    "The `open()` function is used to work with files in Python.\n",
    "Modes:\n",
    "- 'r' : Read\n",
    "- 'w' : Write (creates new file or overwrites)\n",
    "- 'a' : Append\n",
    "- 'b' : Binary\n",
    "- 'x' : Exclusive creation\n",
    "Example: f = open(\"test.txt\", \"w\")\n"
   ]
  },
  {
   "cell_type": "markdown",
   "id": "113ebb63",
   "metadata": {},
   "source": [
    "##   72) Write a Python program to read an entire text file."
   ]
  },
  {
   "cell_type": "code",
   "execution_count": null,
   "id": "82370647",
   "metadata": {},
   "outputs": [],
   "source": [
    "with open(\"test.txt\", \"r\") as f:\n",
    "    data = f.read()\n",
    "print(data)"
   ]
  },
  {
   "cell_type": "markdown",
   "id": "b8af4d59",
   "metadata": {},
   "source": [
    "##  73) Write a Python program to append text to a file and display the text."
   ]
  },
  {
   "cell_type": "code",
   "execution_count": null,
   "id": "599c027e",
   "metadata": {},
   "outputs": [],
   "source": [
    "with open(\"test.txt\", \"a\") as f:\n",
    "    f.write(\"Hello World\\nWellcome to Python file handling.\\n\")\n",
    "\n",
    "with open(\"test.txt\", \"r\") as f:\n",
    "    print(f.read())"
   ]
  },
  {
   "cell_type": "markdown",
   "id": "1a61bb4f",
   "metadata": {},
   "source": [
    "##  74) Write a Python program to read first n lines of a file."
   ]
  },
  {
   "cell_type": "code",
   "execution_count": null,
   "id": "2368a16d",
   "metadata": {},
   "outputs": [],
   "source": [
    "\n",
    "n = 3\n",
    "with open(\"test.txt\", \"r\") as f:\n",
    "    for i in range(n):\n",
    "        print(f.readline())"
   ]
  },
  {
   "cell_type": "markdown",
   "id": "277238b3",
   "metadata": {},
   "source": [
    "##  75) Write a Python program to read last n lines of a file."
   ]
  },
  {
   "cell_type": "code",
   "execution_count": 43,
   "id": "42c643be",
   "metadata": {},
   "outputs": [
    {
     "ename": "SyntaxError",
     "evalue": "invalid syntax (313448495.py, line 1)",
     "output_type": "error",
     "traceback": [
      "  \u001b[36mCell\u001b[39m\u001b[36m \u001b[39m\u001b[32mIn[43]\u001b[39m\u001b[32m, line 1\u001b[39m\n\u001b[31m    \u001b[39m\u001b[31mfrom collections import de ue\u001b[39m\n                               ^\n\u001b[31mSyntaxError\u001b[39m\u001b[31m:\u001b[39m invalid syntax\n"
     ]
    }
   ],
   "source": [
    "\n",
    "from collections import de ue\n",
    "n = 3\n",
    "with open(\"test.txt\") as f:\n",
    "    for line in de ue(f, n):\n",
    "        print(line)\n",
    "\n"
   ]
  },
  {
   "cell_type": "markdown",
   "id": "99e2137e",
   "metadata": {},
   "source": [
    "##  76) Write a Python program to read a file line by line and store it into a list."
   ]
  },
  {
   "cell_type": "code",
   "execution_count": null,
   "id": "7eb72a9d",
   "metadata": {},
   "outputs": [],
   "source": [
    "\n",
    "with open(\"test.txt\") as f:\n",
    "    lines = f.readlines()\n",
    "print(lines)"
   ]
  },
  {
   "cell_type": "markdown",
   "id": "a553498f",
   "metadata": {},
   "source": [
    "##  77) Write a Python program to read a file line by line store it into a variable."
   ]
  },
  {
   "cell_type": "code",
   "execution_count": null,
   "id": "9d5befd8",
   "metadata": {},
   "outputs": [],
   "source": [
    "\n",
    "with open(\"test.txt\") as f:\n",
    "    data = f.read().splitlines()\n",
    "print(data)\n",
    "\n"
   ]
  },
  {
   "cell_type": "markdown",
   "id": "a4569504",
   "metadata": {},
   "source": [
    "##  78) Write a Python program to find the longest words."
   ]
  },
  {
   "cell_type": "code",
   "execution_count": null,
   "id": "246e4b8e",
   "metadata": {},
   "outputs": [],
   "source": [
    "\n",
    "with open(\"test.txt\") as f:\n",
    "    words = f.read().split()\n",
    "longest = max(words, key=len)\n",
    "print(longest)"
   ]
  },
  {
   "cell_type": "markdown",
   "id": "f979d7a4",
   "metadata": {},
   "source": [
    "##  79) Write a Python program to count the number of lines in a text file."
   ]
  },
  {
   "cell_type": "code",
   "execution_count": 44,
   "id": "073a7284",
   "metadata": {},
   "outputs": [
    {
     "name": "stdout",
     "output_type": "stream",
     "text": [
      "Number of lines: 5\n"
     ]
    }
   ],
   "source": [
    "\n",
    "with open(\"test.txt\") as f:\n",
    "    count = sum(1 for line in f)\n",
    "print(\"Number of lines:\", count)"
   ]
  },
  {
   "cell_type": "markdown",
   "id": "efd0743f",
   "metadata": {},
   "source": [
    "##  80) Write a Python program to count the frequency of words in a file."
   ]
  },
  {
   "cell_type": "code",
   "execution_count": null,
   "id": "98dee096",
   "metadata": {},
   "outputs": [],
   "source": [
    "\n",
    "from collections import Counter\n",
    "with open(\"test.txt\") as f:\n",
    "    words = f.read().split()\n",
    "print(Counter(words))"
   ]
  },
  {
   "cell_type": "markdown",
   "id": "6aa1a049",
   "metadata": {},
   "source": [
    "##  81) Write a Python program to write a list to a file."
   ]
  },
  {
   "cell_type": "code",
   "execution_count": null,
   "id": "355b2e47",
   "metadata": {},
   "outputs": [],
   "source": [
    "\n",
    "lines = [\"Hello\", \"World\", \"Python\"]\n",
    "with open(\"test.txt\", \"w\") as f:\n",
    "    for item in lines:\n",
    "        f.write(item + \"\\n\")"
   ]
  },
  {
   "cell_type": "markdown",
   "id": "e1d0e40b",
   "metadata": {},
   "source": [
    "##  82) Write a Python program to copy the contents of a file to another file."
   ]
  },
  {
   "cell_type": "code",
   "execution_count": null,
   "id": "0fc5800a",
   "metadata": {},
   "outputs": [],
   "source": [
    "\n",
    "with open(\"test.txt\", \"r\") as f1, open(\"copy.txt\", \"w\") as f2:\n",
    "    for line in f1:\n",
    "        f2.write(line)"
   ]
  },
  {
   "cell_type": "markdown",
   "id": "e8621a2c",
   "metadata": {},
   "source": [
    "##  83) Explain Exception handling? What is an Error in Python?"
   ]
  },
  {
   "cell_type": "markdown",
   "id": "f94925d1",
   "metadata": {},
   "source": [
    "\n",
    "- Exception Handling allows you to handle runtime errors gracefully.\n",
    "- Errors can be Syntax Errors or Exceptions.\n",
    "- Syntax Errors: Occur due to wrong code structure.\n",
    "- Exceptions: Occur during execution (e.g., ZeroDivisionError, FileNotFoundError).\n",
    "\n"
   ]
  },
  {
   "cell_type": "markdown",
   "id": "a1a4210e",
   "metadata": {},
   "source": [
    "## 84) How many except statements can a try-except block have? Name Some built-in exception classes."
   ]
  },
  {
   "cell_type": "markdown",
   "id": "4f3a4d8d",
   "metadata": {},
   "source": [
    "\n",
    "- A try block can have multiple except statements.\n",
    "Examples of exception classes:\n",
    "    ValueError, TypeError, KeyError, IndexError, ZeroDivisionError, FileNotFoundError\n",
    "\n"
   ]
  },
  {
   "cell_type": "markdown",
   "id": "1c570a25",
   "metadata": {},
   "source": [
    "##  85) When will the else part of try-except-else be executed?"
   ]
  },
  {
   "cell_type": "markdown",
   "id": "9afdc540",
   "metadata": {},
   "source": [
    "\n",
    "- The else block executes only if no exception occurs in try block.\n",
    "\n"
   ]
  },
  {
   "cell_type": "markdown",
   "id": "682ddf6f",
   "metadata": {},
   "source": [
    "##  86) Can one block of except statements handle multiple exception?"
   ]
  },
  {
   "cell_type": "markdown",
   "id": "4cbf0631",
   "metadata": {},
   "source": [
    "Yes, you can handle multiple exceptions in one block using a tuple:\n",
    "try:\n",
    "    ...\n",
    "except (ValueError, TypeError) as e:\n",
    "    print(e)\n",
    "\n"
   ]
  },
  {
   "cell_type": "markdown",
   "id": "c6f83b81",
   "metadata": {},
   "source": [
    "## 87) When is the finally block executed?"
   ]
  },
  {
   "cell_type": "markdown",
   "metadata": {},
   "source": [
    "\n",
    "- The finally block always executes regardless of exception occurrence."
   ]
  },
  {
   "cell_type": "markdown",
   "id": "fbfefe48",
   "metadata": {},
   "source": [
    "##  89) How Do You Handle Exceptions with Try/Except/Finally in Python? Explain with coding snippets."
   ]
  },
  {
   "cell_type": "code",
   "execution_count": null,
   "id": "b007b313",
   "metadata": {},
   "outputs": [],
   "source": [
    "\n",
    "try:\n",
    "    x = 10 / 0\n",
    "except ZeroDivisionError as e:\n",
    "    print(\"Error:\", e)\n",
    "else:\n",
    "    print(\"No Error\")\n",
    "finally:\n",
    "    print(\"Always executed\")"
   ]
  },
  {
   "cell_type": "markdown",
   "id": "20c6473a",
   "metadata": {},
   "source": [
    "##  90) Write python program that user to enter only odd numbers, else will raise an exception."
   ]
  },
  {
   "cell_type": "code",
   "execution_count": null,
   "id": "02781c15",
   "metadata": {},
   "outputs": [],
   "source": [
    "\n",
    "try:\n",
    "    num = int(input(\"Enter an odd number: \"))\n",
    "    if num % 2 == 0:\n",
    "        raise ValueError(\"This is not an odd number!\")\n",
    "    print(\"You entered an odd number:\", num)\n",
    "except ValueError as e:\n",
    "    print(\"Error:\", e)"
   ]
  }
 ],
 "metadata": {
  "kernelspec": {
   "display_name": "Python 3",
   "language": "python",
   "name": "python3"
  },
  "language_info": {
   "codemirror_mode": {
    "name": "ipython",
    "version": 3
   },
   "file_extension": ".py",
   "mimetype": "text/x-python",
   "name": "python",
   "nbconvert_exporter": "python",
   "pygments_lexer": "ipython3",
   "version": "3.13.7"
  }
 },
 "nbformat": 4,
 "nbformat_minor": 5
}
